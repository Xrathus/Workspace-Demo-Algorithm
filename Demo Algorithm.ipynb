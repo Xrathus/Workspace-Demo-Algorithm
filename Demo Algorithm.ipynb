{
 "cells": [
  {
   "cell_type": "code",
   "execution_count": 1,
   "metadata": {},
   "outputs": [],
   "source": [
    "def splitIntoCubes(data, length):\n",
    "    cubes = []\n",
    "\n",
    "    for i in range(0, data.shape[0]-(data.shape[2])%length, length):\n",
    "        for j in range(0, data.shape[1]-(data.shape[2])%length, length):\n",
    "            for k in range(0, data.shape[2]-(data.shape[2])%length, length):\n",
    "                cubes.append(data[i:i+length, j:j+length, k:k+length])\n",
    "\n",
    "    print(str(len(cubes)) + \" <= \" + str(int(data.shape[0]*data.shape[1]*data.shape[2]/(length**3))))\n",
    "\n",
    "    return cubes"
   ]
  },
  {
   "cell_type": "code",
   "execution_count": null,
   "metadata": {},
   "outputs": [],
   "source": []
  }
 ],
 "metadata": {
  "kernelspec": {
   "display_name": "xpython",
   "language": "python",
   "name": "xpython"
  },
  "language_info": {
   "file_extension": ".py",
   "mimetype": "text/x-python",
   "name": "python",
   "version": "3.7.7"
  }
 },
 "nbformat": 4,
 "nbformat_minor": 4
}
